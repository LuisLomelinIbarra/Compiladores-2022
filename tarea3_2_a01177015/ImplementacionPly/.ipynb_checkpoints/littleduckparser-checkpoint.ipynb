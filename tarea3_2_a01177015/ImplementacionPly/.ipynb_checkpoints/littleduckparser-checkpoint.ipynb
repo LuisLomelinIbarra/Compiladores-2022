{
 "cells": [
  {
   "cell_type": "code",
   "execution_count": 1,
   "id": "c93194c0",
   "metadata": {},
   "outputs": [],
   "source": [
    "#importar las herramientas de lex y yacc de ply\n",
    "\n",
    "import lex\n",
    "import yacc"
   ]
  },
  {
   "cell_type": "code",
   "execution_count": 5,
   "id": "00f962ff",
   "metadata": {},
   "outputs": [
    {
     "name": "stderr",
     "output_type": "stream",
     "text": [
      "WARNING: No t_error rule is defined\n"
     ]
    },
    {
     "data": {
      "text/plain": [
       "<lex.Lexer at 0x17348f05fc0>"
      ]
     },
     "execution_count": 5,
     "metadata": {},
     "output_type": "execute_result"
    }
   ],
   "source": [
    "#Definir los tokens de la gramática\n",
    "tokens=(\"PROGRAM\",\n",
    "\"IF\",\n",
    "\"ELSE\",\n",
    "\"PRINT\",\n",
    "\"INT\",\n",
    "\"VAR\",\n",
    "\"FLOAT\",\n",
    "\"CTE_INT\",\n",
    "\"CTE_FLOAT\",\n",
    "\"CTE_STRING\",\n",
    "\"ID\",\n",
    "\"COLON\",\n",
    "\"SEMICOLON\",\n",
    "\"COMMA\",\n",
    "\"EQ\",\n",
    "\"OPENPAR\",\n",
    "\"CLOSEPAR\",\n",
    "\"GT\",\n",
    "\"LT\",\n",
    "\"PLUS\",\n",
    "\"MINUS\",\n",
    "\"MUL\",\n",
    "\"DIV\",\n",
    "\"OPENCUR\",\n",
    "\"CLOSECUR\")\n",
    "\n",
    "#Aplicar regex\n",
    "t_PROGRAM = (r\"[pP][rR][oO][gG][rR][aA][mM]\")\n",
    "t_IF = (r\"[iI][fF]\")\n",
    "t_ELSE = (r\"[eE][lL][sS][eE]\")\n",
    "t_PRINT = (r\"[pP][rR][iI][nN][tT]\")\n",
    "t_INT = (r\"[iI][nN][tT]\")\n",
    "t_VAR = (r\"[vV][aA][rR]\")\n",
    "t_FLOAT = (r\"[fF][lL][oO][aA][tT]\")\n",
    "t_CTE_INT = (r\"[0-9]+\")\n",
    "t_CTE_FLOAT = (r\"[0-9]+\\.[0-9]+([eE][+-]?[0-9]+)?\")\n",
    "t_CTE_STRING = (r\"\\\"[^\\\"]+\\\"\")\n",
    "t_ID = (r\"[a-zA-Z]([a-zA-Z]|[0-9])*\")\n",
    "t_COLON = (r\":\")\n",
    "t_SEMICOLON = (r\";\")\n",
    "t_COMMA = (r\",\")\n",
    "t_EQ = (r\"=\")\n",
    "t_OPENPAR = (r\"\\(\")\n",
    "t_CLOSEPAR = (r\"\\)\")\n",
    "t_GT = (r\"<\")\n",
    "t_LT = (r\">\")\n",
    "t_PLUS = (r\"\\+\")\n",
    "t_MINUS = (r\"\\-\")\n",
    "t_MUL = (r\"\\*\")\n",
    "t_DIV = (r\"/\")\n",
    "t_OPENCUR = (r\"{\")\n",
    "t_CLOSECUR = (r\"}\")\n",
    "\n",
    "lex.lex()"
   ]
  },
  {
   "cell_type": "code",
   "execution_count": null,
   "id": "535fdbc1",
   "metadata": {},
   "outputs": [],
   "source": [
    "def p_PROGRAMA:\n",
    "    \"\"\"\n",
    "    PROGRAMA: PROGRAM ID COLON VARS BLOQUE\n",
    "    PROGRAM ID COLON  BLOQUE\n",
    "    \"\"\"\n",
    "    \n",
    "def p_BLOQUE:\n",
    "    \"\"\"\n",
    "    \n",
    "    \"\"\"\n",
    "    \n",
    "def p_VARS:\n",
    "    \n",
    "def p_VARCOMMA:\n",
    "    \n",
    "def p_TIPO:\n",
    "    \n",
    "def p_ESTATUTOS:\n",
    "    \n",
    "def p_ESTATUTO:\n",
    "    \n",
    "def p_ASIGNACION:\n",
    "    \n",
    "def p_CONDICION:\n",
    "    \n",
    "def p_IFELSE:\n",
    "    \n",
    "def p_ESCRITURA:\n",
    "    \n",
    "def p_PRINTARG:\n",
    "    \n",
    "def p_PRINTABLE:\n",
    "    \n",
    "def p_EXPRESION:\n",
    "    \n",
    "def p_EXP:\n",
    "    \n",
    "def p_TERMINOS:\n",
    "    \n",
    "def p_TERMINO:\n",
    "    \n",
    "def p_FACTORES:\n",
    "    \n",
    "def p_FACTOR:\n",
    "    \n",
    "def p_SIGNOVAR:\n",
    "    \n",
    "def p_VARCTE:\n",
    "    \n"
   ]
  }
 ],
 "metadata": {
  "kernelspec": {
   "display_name": "Python 3 (ipykernel)",
   "language": "python",
   "name": "python3"
  },
  "language_info": {
   "codemirror_mode": {
    "name": "ipython",
    "version": 3
   },
   "file_extension": ".py",
   "mimetype": "text/x-python",
   "name": "python",
   "nbconvert_exporter": "python",
   "pygments_lexer": "ipython3",
   "version": "3.10.0"
  }
 },
 "nbformat": 4,
 "nbformat_minor": 5
}
